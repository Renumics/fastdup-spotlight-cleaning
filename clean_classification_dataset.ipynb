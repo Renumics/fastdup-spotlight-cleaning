{
 "cells": [
  {
   "cell_type": "markdown",
   "id": "a33ee0a1-a1c8-43d4-a907-24cf0e191192",
   "metadata": {},
   "source": [
    "# Cleaning Datasets for Image Classification with fastdup and Renumics Spotlight\n",
    "This notebook aims at providing a blueprint on how you can **improve your machine learning data** in no time with fastdup and Renumics Spotlight. *fastdup* is an open source library for **scalable data curation**, offering high-quality detection algorithms for uncovering the most common data problems. *Renumics Spotlight* is an open source tool for **interactively visualizing** datasets and machine learning results. Combined they can be a powerful way to **automatically detect** data issues and **discover systematic patterns** in the detection results. They will help you improve your data in a quick and effective manner!\n",
    "\n",
    "# Preparations\n",
    "To run this notebook you need to install the following **dependencies**:"
   ]
  },
  {
   "cell_type": "code",
   "execution_count": null,
   "id": "6bf0bca0-872d-46b0-abf2-19b53b4a9eed",
   "metadata": {},
   "outputs": [],
   "source": [
    "!pip install -U numpy pandas fastdup renumics-spotlight"
   ]
  },
  {
   "cell_type": "markdown",
   "id": "45abab58-3007-49b5-9882-c6bc74059ae5",
   "metadata": {},
   "source": [
    "You also will need some imports and **load the dataset** used in this example. You can find the dataset [here on kaggle](https://www.kaggle.com/datasets/tolgadincer/us-license-plates).\n",
    "\n",
    "Be sure to also **adjust the dataset path** below if you want to run the code locally."
   ]
  },
  {
   "cell_type": "code",
   "execution_count": null,
   "id": "a030b007-259f-4450-a5a5-121323ba6598",
   "metadata": {},
   "outputs": [],
   "source": [
    "# The imports you need for running this example notebook\n",
    "from pathlib import Path\n",
    "import pandas as pd\n",
    "import numpy as np\n",
    "import fastdup\n",
    "from renumics import spotlight\n",
    "from renumics.spotlight.analysis import DataIssue"
   ]
  },
  {
   "cell_type": "code",
   "execution_count": null,
   "id": "e7cf552a-cbb3-4685-a52c-590e731afc76",
   "metadata": {},
   "outputs": [],
   "source": [
    "# The dataset input directory\n",
    "INPUT_DIR = Path(\"/home/daniel/data/license_plates/data\") # ADJUST THE PATH TO YOUR DIRECTORY"
   ]
  },
  {
   "cell_type": "code",
   "execution_count": null,
   "id": "f235a9d7-a726-40c2-8212-f02a6d5cfc91",
   "metadata": {},
   "outputs": [],
   "source": [
    "# Load the data\n",
    "labels = []\n",
    "filenames = []\n",
    "\n",
    "class_dirs = INPUT_DIR.glob(\"*\")\n",
    "for class_dir in class_dirs:\n",
    "    if class_dir.is_dir():\n",
    "        images = class_dir.glob(\"*\")\n",
    "        for image in images:\n",
    "            filenames.append(str(image))\n",
    "            labels.append(class_dir.name)\n",
    "\n",
    "df = pd.DataFrame({\"filename\": filenames, \"label\": labels})"
   ]
  },
  {
   "cell_type": "markdown",
   "id": "babb327d-affb-4038-9a51-d831a0bd4d47",
   "metadata": {},
   "source": [
    "After loading the data, you will end up with a **dataframe** that looks as follows. If you want to **apply the notebook to your data** make sure either file layout or at least the final dataframe match the format shown here and you can directly apply everything shown here."
   ]
  },
  {
   "cell_type": "code",
   "execution_count": null,
   "id": "75df34e8-2099-424a-bc93-f346527e1ee5",
   "metadata": {},
   "outputs": [],
   "source": [
    "df"
   ]
  },
  {
   "cell_type": "code",
   "execution_count": null,
   "id": "b58d31ca-dd10-4a4b-8337-7483f30f7dbb",
   "metadata": {},
   "outputs": [],
   "source": [
    "fd = fastdup.create(input_dir =INPUT_DIR)\n",
    "fd.run(annotations=df, overwrite=True, model_path=\"dinov2s\", run_advanced_stats=True) # Detect data issues using fastdup\n",
    "_, embeddings = fd.embeddings(d=384) # Save the generated embedding to variable\n",
    "df[\"embedding\"] = embeddings.tolist()"
   ]
  },
  {
   "cell_type": "code",
   "execution_count": null,
   "id": "6f34b984-70ff-43e7-920c-3ea9d50f17b1",
   "metadata": {},
   "outputs": [],
   "source": [
    "fd.img_stats().columns"
   ]
  },
  {
   "cell_type": "markdown",
   "id": "773b5a00-db79-493e-b6df-4b0a55e6b85c",
   "metadata": {},
   "source": [
    "# Check the data for common issues like low contrast or blur"
   ]
  },
  {
   "cell_type": "markdown",
   "id": "75e86513-15e5-4769-9aca-1ebcc42e5aa6",
   "metadata": {},
   "source": [
    "## Detect issues fast using fastdup\n",
    "fastdup already does a great job at **automatically** finding images that might be subject to difficult to handle for a machine learning model because of **challenging environmental conditions**."
   ]
  },
  {
   "cell_type": "code",
   "execution_count": null,
   "id": "9a8fa5e6-6ea4-422a-af36-a9b4a59907a4",
   "metadata": {},
   "outputs": [],
   "source": [
    "fd.vis.stats_gallery(metric=\"bright\") # also try dark and blur"
   ]
  },
  {
   "cell_type": "markdown",
   "id": "6010e215-6f9e-41a9-bd22-0cc091c55620",
   "metadata": {},
   "source": [
    "## Discover patterns using Renumics Spotlight\n",
    "fastdup's report already shows you a very useful overview on potentially challenging cases you model might struggle with. Spotlight can help you to additionally **identify patterns** on e.g. clusters of **scenarios where these challenging conditions might occur**."
   ]
  },
  {
   "cell_type": "code",
   "execution_count": null,
   "id": "6ccfa5f7-0d82-426a-9fb0-da1976e5c094",
   "metadata": {},
   "outputs": [],
   "source": [
    "stats_df = fd.img_stats()\n",
    "\n",
    "columns_to_use = [\"mean\", \"blur\", \"contrast\", \"mean_saturation\", \"edge_density\"] # for more stats check out the dataframe columns!\n",
    "\n",
    "df = pd.concat([df, stats_df[np.setdiff1d(columns_to_use, df.columns)]], axis=1)\n",
    "\n",
    "df[\"issue\"] = \"no\"\n",
    "df.loc[df[\"mean\"] > 220.5, \"issue\"] = \"bright\"\n",
    "df.loc[df[\"mean\"] < 40, \"issue\"] = \"dark\"\n",
    "df.loc[df[\"blur\"] < 400, \"issue\"] = \"blurry\"\n",
    "\n",
    "stats_issues = []\n",
    "for issue_type in df[\"issue\"].unique():\n",
    "    if issue_type == \"no\":\n",
    "        continue\n",
    "    stats_issue = DataIssue(\n",
    "                        title=f\"{issue_type.capitalize()} Image\",\n",
    "                        rows=df[df[\"issue\"] == issue_type].index.tolist(),\n",
    "                        columns=[\"blur\"] if issue_type == \"blurry\" else [\"mean\"]\n",
    "                        )\n",
    "    stats_issues.append(stats_issue)"
   ]
  },
  {
   "cell_type": "code",
   "execution_count": null,
   "id": "fb04cd2a-bbe4-4b4c-bda5-8f7b62b022f5",
   "metadata": {},
   "outputs": [],
   "source": [
    "spotlight.show(df, dtype={\"embedding\": spotlight.Embedding, \"filename\": spotlight.Image}, issues=stats_issues, layout=\"spotlight-layout-issues.json\", wait=True)"
   ]
  },
  {
   "cell_type": "markdown",
   "id": "89b52a66-fe39-477a-ab40-540792eb0d5a",
   "metadata": {},
   "source": [
    "**Results:**\n",
    "![Spotlight Results](img/issues_spotlight.png)\n",
    "\n",
    "Spotlight will give you the opportunity to interactively explore the data using the features generated by fastdup. This will help you answer questions such as:\n",
    "1. Where are **clusters** of images taken under challenging conditions?\n",
    "2. Are the challenging conditions **associated** with specific classes?\n",
    "3. Are there any conditions the **scalar features** do not sufficiently capture?\n",
    "4. ..."
   ]
  },
  {
   "cell_type": "markdown",
   "id": "437c74ea-401b-4e89-b56b-ba80a18f107e",
   "metadata": {},
   "source": [
    "# Check the data for outliers"
   ]
  },
  {
   "cell_type": "markdown",
   "id": "98a9704d-49f9-4be9-b41d-74e66987fc2a",
   "metadata": {},
   "source": [
    "## Detect issues fast using fastdup\n",
    "Again, fastdup will give us a great **overview** on which types of outlier might exist in our data. Rendering an **html report** is just a oneliner."
   ]
  },
  {
   "cell_type": "code",
   "execution_count": null,
   "id": "0ee0f347-1891-4a39-9d3c-2892c05182ba",
   "metadata": {},
   "outputs": [],
   "source": [
    "fd.vis.outliers_gallery()"
   ]
  },
  {
   "cell_type": "markdown",
   "id": "848abd58-2cff-4ebc-a20a-f5daeae53773",
   "metadata": {},
   "source": [
    "## Discover patterns using Renumics Spotlight\n",
    "If you want to find out if there are systematic **outlier patterns**, which are possibly related to specific classes, you can use Renumics Spotlight for an **interactive analysis** of fastdup's detection results."
   ]
  },
  {
   "cell_type": "code",
   "execution_count": null,
   "id": "86b3eaf1-41e8-4387-83aa-32a803340488",
   "metadata": {},
   "outputs": [],
   "source": [
    "outlier_df = fd.outliers()\n",
    "\n",
    "df[\"outlier\"] = \"no\"\n",
    "df.loc[outlier_df[\"outlier\"], \"outlier\"] = \"outlier\"\n",
    "\n",
    "columns_to_use = [\"distance\", \"filename_nearest\",\"label_nearest\"]\n",
    "\n",
    "df = pd.concat([df, outlier_df.set_index(\"outlier\")[np.setdiff1d(columns_to_use, df.columns)]], axis=1)\n",
    "\n",
    "\n",
    "outlier_issue = DataIssue(\n",
    "                    title=f\"Outlier\",\n",
    "                    rows=df[df[\"outlier\"] == \"outlier\"].sort_values(\"distance\").index.tolist(),\n",
    "                    columns=[\"embedding\"]\n",
    "                )"
   ]
  },
  {
   "cell_type": "code",
   "execution_count": null,
   "id": "b5cbb3bd-6963-4d5e-a90f-5e5dd8efd81a",
   "metadata": {},
   "outputs": [],
   "source": [
    "spotlight.show(df, dtype={\"embedding\": spotlight.Embedding, \"filename\": spotlight.Image, \"filename_nearest\": spotlight.Image}, issues=[outlier_issue], layout=\"spotlight-layout-outliers.json\", wait=True)"
   ]
  },
  {
   "cell_type": "markdown",
   "id": "fb0fc9f9-0d53-458d-aaa2-3289c8a335a0",
   "metadata": {},
   "source": [
    "**Result**:\n",
    "![Spotlight Outlier View](img/outliers_spotlight.png)\n",
    "\n",
    "Spotlight will give you additional possibilities to interactively explore the outliers detected by fastdup and answer questions such as:\n",
    "1. How are the outliers **distributed** across classes\n",
    "2. Where are **clusters** of outliers that share similar properties\n",
    "3. Are outliers fastdup detects in the image data **explainable via metadata** you might have\n",
    "4. ..."
   ]
  },
  {
   "cell_type": "markdown",
   "id": "84272552-3436-4086-aaea-611b9b01b506",
   "metadata": {},
   "source": [
    "# Check the data for duplicates"
   ]
  },
  {
   "cell_type": "markdown",
   "id": "bcc28436-4612-4838-962d-cce46f5572a9",
   "metadata": {},
   "source": [
    "## Detect issues fast using fastdup\n",
    "fastdup also offers an **html report** on the most likely exact and near duplicates."
   ]
  },
  {
   "cell_type": "code",
   "execution_count": null,
   "id": "bd5cfd1e-c594-4e90-83c7-a7568d93fbbf",
   "metadata": {},
   "outputs": [],
   "source": [
    "fd.vis.duplicates_gallery()"
   ]
  },
  {
   "cell_type": "markdown",
   "id": "c566c74c-e31d-48fd-8e52-c51fe8c961e8",
   "metadata": {},
   "source": [
    "## Discover patterns using Renumics Spotlight\n",
    "Spotlight will again help you **interactively explore** exact and near duplicates and like this find additional patterns in the data."
   ]
  },
  {
   "cell_type": "code",
   "execution_count": null,
   "id": "836dd6b1-18a4-47d3-a8fc-d297fbbb8a96",
   "metadata": {},
   "outputs": [],
   "source": [
    "similarity_df = fd.similarity()\n",
    "\n",
    "# Adjust the thresholds to include more dissimilar images in the issues list\n",
    "exact_dup_threshold = 0.998\n",
    "near_dup_threshold = 0.98\n",
    "\n",
    "df[\"duplicate\"] = \"no\"\n",
    "df.loc[similarity_df[\"distance\"] >= exact_dup_threshold, \"duplicate\"] = \"exact\"\n",
    "df.loc[(similarity_df[\"distance\"] >= near_dup_threshold) & (similarity_df[\"distance\"] < exact_dup_threshold), \"duplicate\"] = \"near\"\n",
    "\n",
    "duplicate_issues = []\n",
    "for _, row in similarity_df[similarity_df[\"distance\"] >= near_dup_threshold].iterrows():\n",
    "        duplicate_issue = DataIssue(\n",
    "                            title=f\"{'Exact' if row['distance'] >= exact_dup_threshold else 'Near'} Duplicate | Distance {row['distance']:.2f}\",\n",
    "                            description=f\"Labels from/to: {row['label_from']}/{row['label_to']}\",\n",
    "                            rows=[row[\"from\"], row[\"to\"]],\n",
    "                            columns=[\"embedding\"]\n",
    "                        )\n",
    "        duplicate_issues.append(duplicate_issue)\n",
    "    "
   ]
  },
  {
   "cell_type": "code",
   "execution_count": null,
   "id": "7ad5be03-afb5-4f0d-83db-45a67707c9c1",
   "metadata": {},
   "outputs": [],
   "source": [
    "spotlight.show(df, dtype={\"embedding\": spotlight.Embedding, \"filename\": spotlight.Image}, issues=duplicate_issues, layout=\"spotlight-layout-duplicates.json\", wait=True)"
   ]
  },
  {
   "cell_type": "markdown",
   "id": "0adaf6f7-ef0a-4f43-9f1b-cc2f5c2c8182",
   "metadata": {},
   "source": [
    "**Results:**\n",
    "![Spotlight Results](img/duplicates_spotlight.png)\n",
    "\n",
    "Spotlight will give you the possibility to explore fastdup's detection results interactively. You can investigate questions such as:\n",
    "1. Are there **data slices** containing a large numbers of duplicates?\n",
    "2. Can you manually identify larger **clusters of near duplicates**?\n",
    "3. Are certain **metadata** attributes explanatory for certain types of duplicates?\n",
    "4. ..."
   ]
  },
  {
   "cell_type": "markdown",
   "id": "df5a1e6c-e0ca-4273-80a1-f45828a7f8ff",
   "metadata": {},
   "source": [
    "# Check the data for label inconsistencies"
   ]
  },
  {
   "cell_type": "markdown",
   "id": "cf915ef9-9b43-4dd8-9d6d-2b1b77324520",
   "metadata": {},
   "source": [
    "## Detect issues fast using fastdup\n",
    "fastdup's possibilities to explore potential **label inconsistencies** are based on the assumption that close images should probably have the same label. If this is not the case it is a potential inconsistency."
   ]
  },
  {
   "cell_type": "code",
   "execution_count": null,
   "id": "e61fbbf1-f685-444e-81fe-2eb235fccd17",
   "metadata": {
    "scrolled": true
   },
   "outputs": [],
   "source": [
    "similarities_df = fd.vis.similarity_gallery() "
   ]
  },
  {
   "cell_type": "markdown",
   "id": "a718e9d9-8354-40b6-b3a7-c582921be0d4",
   "metadata": {},
   "source": [
    "## Discover patterns using Renumics Spotlight\n",
    "Spotlight will give you the opportunity to explore label inconsistencies on a **cluster level**."
   ]
  },
  {
   "cell_type": "code",
   "execution_count": null,
   "id": "db69e22c-55a5-431e-9698-4bf7ac186105",
   "metadata": {},
   "outputs": [],
   "source": [
    "similarity_df = fd.similarity()\n",
    "\n",
    "# Adjust the thresholds to include more dissimilar images in the issues list\n",
    "inconsistency_threshold = 0.96\n",
    "\n",
    "df[\"label_inconsistency\"] = \"no\"\n",
    "df.loc[(similarity_df[\"distance\"] >= inconsistency_threshold) & (similarity_df[\"label_from\"] != similarity_df[\"label_to\"]), \"label_inconsistency\"] = \"inconsistent\"\n",
    "\n",
    "inconsistency_issues = []\n",
    "for _, row in similarity_df[(similarity_df[\"distance\"] >= inconsistency_threshold) & (similarity_df[\"label_from\"] != similarity_df[\"label_to\"])].iterrows():\n",
    "        inconsistency_issue = DataIssue(\n",
    "                                title=f\"Label Inconsistency | Distance {row['distance']:.2f}\",\n",
    "                                description=f\"Labels from/to: {row['label_from']}/{row['label_to']}\",\n",
    "                                rows=[row[\"from\"], row[\"to\"]],\n",
    "                                columns=[\"embedding\"]\n",
    "                                )\n",
    "        inconsistency_issues.append(inconsistency_issue)"
   ]
  },
  {
   "cell_type": "code",
   "execution_count": null,
   "id": "c49242d8-ebfa-4080-aab3-5a5d1f2be86c",
   "metadata": {},
   "outputs": [],
   "source": [
    "spotlight.show(df, dtype={\"embedding\": spotlight.Embedding, \"filename\": spotlight.Image}, issues=inconsistency_issues, layout=\"spotlight-layout-label-inconsistencies.json\", wait=True)"
   ]
  },
  {
   "cell_type": "markdown",
   "id": "1e3b4514-ba8b-4577-8917-9ad0b781a287",
   "metadata": {},
   "source": [
    "**Results:**\n",
    "![Spotlight Results](img/inconsistencies_spotlight.png)\n",
    "\n",
    "Spotlight will help you answer questions such as:\n",
    "1. Are the detected label inconsistencies **true inconsistencies**?\n",
    "2. Are the label inconsistencies especially present in certain **clusters** or classes?\n",
    "3. Are there ways to **filter or correct** inconsistencies automatically?\n",
    "4. ..."
   ]
  },
  {
   "cell_type": "markdown",
   "id": "ffb54560-07d4-4107-b9f0-c4be17516fa2",
   "metadata": {},
   "source": [
    "# Identify clusters to gain additional insights for training and evaluation"
   ]
  },
  {
   "cell_type": "markdown",
   "id": "fae253de-3cff-4668-ae08-7d0a42b5fc81",
   "metadata": {},
   "source": [
    "## Detect image clusters with fastdup\n",
    "fastdup offers a gallery few to explore the most relevant **clusters of similar images**."
   ]
  },
  {
   "cell_type": "code",
   "execution_count": null,
   "id": "e36d3356-0946-480c-9068-c0a2b1d398ed",
   "metadata": {},
   "outputs": [],
   "source": [
    "fd.vis.component_gallery()"
   ]
  },
  {
   "cell_type": "markdown",
   "id": "08e5a4d4-f61c-4724-b2e9-d5c9d656d04b",
   "metadata": {},
   "source": [
    "## Interactively browse image clusters using Renumics Spotlight\n",
    "Spotlight offers a similar functionality but allows you to do the exploration **interactively** and explore subsets of the data in more detail by using its **filtering** and dynamic **dimensionality reduction** capabilities."
   ]
  },
  {
   "cell_type": "code",
   "execution_count": null,
   "id": "a2f02cb8-7e09-4441-a1e2-a9fe4ba2271d",
   "metadata": {},
   "outputs": [],
   "source": [
    "cc_df, _ = fd.connected_components()\n",
    "\n",
    "largest_groups = cc_df.groupby(\"component_id\")[\"component_id\"].count().sort_values(ascending=False)[:20]\n",
    "\n",
    "df[\"cluster\"] = -1\n",
    "\n",
    "clusters = []\n",
    "\n",
    "for group in largest_groups.index:\n",
    "    indices = cc_df[(cc_df[\"component_id\"] == group)][\"index\"]\n",
    "    df.loc[indices, \"cluster\"] = group\n",
    "    cluster = DataIssue(\n",
    "                        title=f\"Image Cluster\",\n",
    "                        rows=indices.tolist(),\n",
    "                        columns=[\"embedding\"]\n",
    "                        )\n",
    "    clusters.append(cluster)"
   ]
  },
  {
   "cell_type": "code",
   "execution_count": null,
   "id": "31d09b06-d6cc-46cd-83ce-f7cecfc6a523",
   "metadata": {},
   "outputs": [],
   "source": [
    "spotlight.show(df, dtype={\"embedding\": spotlight.Embedding, \"filename\": spotlight.Image}, issues=clusters, layout=\"spotlight-layout-clusters.json\", wait=True)"
   ]
  },
  {
   "cell_type": "markdown",
   "id": "38d0b537-38d6-4ea9-a9bf-8ead7ff09a81",
   "metadata": {},
   "source": [
    "**Results:**\n",
    "![Spotlight Results](img/clusters_spotlight.png)\n",
    "\n",
    "Here Spotlight can simply help you **build an understanding** for the dataset in a really intuitive way, using structured as well as unstructured data."
   ]
  }
 ],
 "metadata": {
  "kernelspec": {
   "display_name": "Python 3 (ipykernel)",
   "language": "python",
   "name": "python3"
  },
  "language_info": {
   "codemirror_mode": {
    "name": "ipython",
    "version": 3
   },
   "file_extension": ".py",
   "mimetype": "text/x-python",
   "name": "python",
   "nbconvert_exporter": "python",
   "pygments_lexer": "ipython3",
   "version": "3.10.12"
  }
 },
 "nbformat": 4,
 "nbformat_minor": 5
}
